{
 "cells": [
  {
   "cell_type": "code",
   "execution_count": 4,
   "id": "6c181897",
   "metadata": {},
   "outputs": [],
   "source": [
    "\n",
    "import os\n",
    "import zipfile\n",
    "import pandas as pd\n",
    "import geopandas as gpd\n",
    "import re\n",
    "from scipy.spatial.distance import pdist\n",
    "import numpy as np\n",
    "import plotly.express as px\n"
   ]
  },
  {
   "cell_type": "code",
   "execution_count": 5,
   "id": "59055cec",
   "metadata": {},
   "outputs": [],
   "source": [
    "\n",
    "# Set directory path and check for .zip files in the directory\n",
    "data_dir = 'data'\n",
    "zip_files = [f for f in os.listdir(data_dir) if f.endswith('.zip')]\n",
    "\n",
    "# Unzip all found .zip files\n",
    "for zip_file in zip_files:\n",
    "    with zipfile.ZipFile(os.path.join(data_dir, zip_file), 'r') as zip_ref:\n",
    "        zip_ref.extractall(data_dir)\n",
    "\n",
    "# Look for .kml files after unzipping\n",
    "kml_files = [f for f in os.listdir(data_dir) if f.endswith('.kml')]\n",
    "\n",
    "# Initialize an empty list to store data\n",
    "data = []\n",
    "\n",
    "# Iterate over .kml files, reading each into GeoDataFrame and extracting necessary information\n",
    "for kml_file in kml_files:\n",
    "    kml_path = os.path.join(data_dir, kml_file)\n",
    "    try:\n",
    "        # Read the KML file with geopandas\n",
    "        gdf = gpd.read_file(kml_path)\n",
    "        \n",
    "        # Append each row with the file name to data\n",
    "        for _, row in gdf.iterrows():\n",
    "            data.append({'file_name': kml_file, 'geometry': row['geometry']})\n",
    "    except Exception as e:\n",
    "        print(f\"Could not read {kml_file}: {e}\")\n",
    "\n",
    "# Convert data list to DataFrame\n",
    "df_kml = pd.DataFrame(data)\n"
   ]
  },
  {
   "cell_type": "code",
   "execution_count": 6,
   "id": "5c7f7633",
   "metadata": {},
   "outputs": [],
   "source": [
    "\n",
    "# Extract ID and remove unnecessary columns\n",
    "df_kml['file_id'] = df_kml['file_name'].apply(lambda x: re.search(r'_(\\d+)_', x).group(1) if re.search(r'_(\\d+)_', x) else None)\n",
    "df_kml = df_kml.drop(columns=['file_name'])\n"
   ]
  },
  {
   "cell_type": "code",
   "execution_count": 7,
   "id": "e6ae537d",
   "metadata": {},
   "outputs": [
    {
     "ename": "KeyError",
     "evalue": "'Name'",
     "output_type": "error",
     "traceback": [
      "\u001b[1;31m---------------------------------------------------------------------------\u001b[0m",
      "\u001b[1;31mKeyError\u001b[0m                                  Traceback (most recent call last)",
      "Cell \u001b[1;32mIn[7], line 13\u001b[0m\n\u001b[0;32m     10\u001b[0m     \u001b[38;5;28;01mreturn\u001b[39;00m np\u001b[38;5;241m.\u001b[39mmean(pdist(coords))  \u001b[38;5;66;03m# Calculate pairwise distances and take the mean\u001b[39;00m\n\u001b[0;32m     12\u001b[0m \u001b[38;5;66;03m# Calculate avg_distance for each student\u001b[39;00m\n\u001b[1;32m---> 13\u001b[0m student_avg_dist \u001b[38;5;241m=\u001b[39m df_kml\u001b[38;5;241m.\u001b[39mgroupby(\u001b[38;5;124m'\u001b[39m\u001b[38;5;124mName\u001b[39m\u001b[38;5;124m'\u001b[39m)\u001b[38;5;241m.\u001b[39mapply(average_distance_within_group)\u001b[38;5;241m.\u001b[39mreset_index(name\u001b[38;5;241m=\u001b[39m\u001b[38;5;124m'\u001b[39m\u001b[38;5;124mavg_distance\u001b[39m\u001b[38;5;124m'\u001b[39m)\n\u001b[0;32m     14\u001b[0m student_avg_dist[\u001b[38;5;124m'\u001b[39m\u001b[38;5;124mavg_distance\u001b[39m\u001b[38;5;124m'\u001b[39m] \u001b[38;5;241m=\u001b[39m pd\u001b[38;5;241m.\u001b[39mto_numeric(student_avg_dist[\u001b[38;5;124m'\u001b[39m\u001b[38;5;124mavg_distance\u001b[39m\u001b[38;5;124m'\u001b[39m], errors\u001b[38;5;241m=\u001b[39m\u001b[38;5;124m'\u001b[39m\u001b[38;5;124mcoerce\u001b[39m\u001b[38;5;124m'\u001b[39m)\u001b[38;5;241m.\u001b[39mfillna(\u001b[38;5;241m0\u001b[39m)\u001b[38;5;241m.\u001b[39mastype(\u001b[38;5;28mfloat\u001b[39m)\n\u001b[0;32m     16\u001b[0m \u001b[38;5;66;03m# Sort by avg_distance and divide students into 4 equal groups\u001b[39;00m\n",
      "File \u001b[1;32m~\\anaconda3\\Lib\\site-packages\\pandas\\core\\frame.py:9183\u001b[0m, in \u001b[0;36mDataFrame.groupby\u001b[1;34m(self, by, axis, level, as_index, sort, group_keys, observed, dropna)\u001b[0m\n\u001b[0;32m   9180\u001b[0m \u001b[38;5;28;01mif\u001b[39;00m level \u001b[38;5;129;01mis\u001b[39;00m \u001b[38;5;28;01mNone\u001b[39;00m \u001b[38;5;129;01mand\u001b[39;00m by \u001b[38;5;129;01mis\u001b[39;00m \u001b[38;5;28;01mNone\u001b[39;00m:\n\u001b[0;32m   9181\u001b[0m     \u001b[38;5;28;01mraise\u001b[39;00m \u001b[38;5;167;01mTypeError\u001b[39;00m(\u001b[38;5;124m\"\u001b[39m\u001b[38;5;124mYou have to supply one of \u001b[39m\u001b[38;5;124m'\u001b[39m\u001b[38;5;124mby\u001b[39m\u001b[38;5;124m'\u001b[39m\u001b[38;5;124m and \u001b[39m\u001b[38;5;124m'\u001b[39m\u001b[38;5;124mlevel\u001b[39m\u001b[38;5;124m'\u001b[39m\u001b[38;5;124m\"\u001b[39m)\n\u001b[1;32m-> 9183\u001b[0m \u001b[38;5;28;01mreturn\u001b[39;00m DataFrameGroupBy(\n\u001b[0;32m   9184\u001b[0m     obj\u001b[38;5;241m=\u001b[39m\u001b[38;5;28mself\u001b[39m,\n\u001b[0;32m   9185\u001b[0m     keys\u001b[38;5;241m=\u001b[39mby,\n\u001b[0;32m   9186\u001b[0m     axis\u001b[38;5;241m=\u001b[39maxis,\n\u001b[0;32m   9187\u001b[0m     level\u001b[38;5;241m=\u001b[39mlevel,\n\u001b[0;32m   9188\u001b[0m     as_index\u001b[38;5;241m=\u001b[39mas_index,\n\u001b[0;32m   9189\u001b[0m     sort\u001b[38;5;241m=\u001b[39msort,\n\u001b[0;32m   9190\u001b[0m     group_keys\u001b[38;5;241m=\u001b[39mgroup_keys,\n\u001b[0;32m   9191\u001b[0m     observed\u001b[38;5;241m=\u001b[39mobserved,\n\u001b[0;32m   9192\u001b[0m     dropna\u001b[38;5;241m=\u001b[39mdropna,\n\u001b[0;32m   9193\u001b[0m )\n",
      "File \u001b[1;32m~\\anaconda3\\Lib\\site-packages\\pandas\\core\\groupby\\groupby.py:1329\u001b[0m, in \u001b[0;36mGroupBy.__init__\u001b[1;34m(self, obj, keys, axis, level, grouper, exclusions, selection, as_index, sort, group_keys, observed, dropna)\u001b[0m\n\u001b[0;32m   1326\u001b[0m \u001b[38;5;28mself\u001b[39m\u001b[38;5;241m.\u001b[39mdropna \u001b[38;5;241m=\u001b[39m dropna\n\u001b[0;32m   1328\u001b[0m \u001b[38;5;28;01mif\u001b[39;00m grouper \u001b[38;5;129;01mis\u001b[39;00m \u001b[38;5;28;01mNone\u001b[39;00m:\n\u001b[1;32m-> 1329\u001b[0m     grouper, exclusions, obj \u001b[38;5;241m=\u001b[39m get_grouper(\n\u001b[0;32m   1330\u001b[0m         obj,\n\u001b[0;32m   1331\u001b[0m         keys,\n\u001b[0;32m   1332\u001b[0m         axis\u001b[38;5;241m=\u001b[39maxis,\n\u001b[0;32m   1333\u001b[0m         level\u001b[38;5;241m=\u001b[39mlevel,\n\u001b[0;32m   1334\u001b[0m         sort\u001b[38;5;241m=\u001b[39msort,\n\u001b[0;32m   1335\u001b[0m         observed\u001b[38;5;241m=\u001b[39m\u001b[38;5;28;01mFalse\u001b[39;00m \u001b[38;5;28;01mif\u001b[39;00m observed \u001b[38;5;129;01mis\u001b[39;00m lib\u001b[38;5;241m.\u001b[39mno_default \u001b[38;5;28;01melse\u001b[39;00m observed,\n\u001b[0;32m   1336\u001b[0m         dropna\u001b[38;5;241m=\u001b[39m\u001b[38;5;28mself\u001b[39m\u001b[38;5;241m.\u001b[39mdropna,\n\u001b[0;32m   1337\u001b[0m     )\n\u001b[0;32m   1339\u001b[0m \u001b[38;5;28;01mif\u001b[39;00m observed \u001b[38;5;129;01mis\u001b[39;00m lib\u001b[38;5;241m.\u001b[39mno_default:\n\u001b[0;32m   1340\u001b[0m     \u001b[38;5;28;01mif\u001b[39;00m \u001b[38;5;28many\u001b[39m(ping\u001b[38;5;241m.\u001b[39m_passed_categorical \u001b[38;5;28;01mfor\u001b[39;00m ping \u001b[38;5;129;01min\u001b[39;00m grouper\u001b[38;5;241m.\u001b[39mgroupings):\n",
      "File \u001b[1;32m~\\anaconda3\\Lib\\site-packages\\pandas\\core\\groupby\\grouper.py:1043\u001b[0m, in \u001b[0;36mget_grouper\u001b[1;34m(obj, key, axis, level, sort, observed, validate, dropna)\u001b[0m\n\u001b[0;32m   1041\u001b[0m         in_axis, level, gpr \u001b[38;5;241m=\u001b[39m \u001b[38;5;28;01mFalse\u001b[39;00m, gpr, \u001b[38;5;28;01mNone\u001b[39;00m\n\u001b[0;32m   1042\u001b[0m     \u001b[38;5;28;01melse\u001b[39;00m:\n\u001b[1;32m-> 1043\u001b[0m         \u001b[38;5;28;01mraise\u001b[39;00m \u001b[38;5;167;01mKeyError\u001b[39;00m(gpr)\n\u001b[0;32m   1044\u001b[0m \u001b[38;5;28;01melif\u001b[39;00m \u001b[38;5;28misinstance\u001b[39m(gpr, Grouper) \u001b[38;5;129;01mand\u001b[39;00m gpr\u001b[38;5;241m.\u001b[39mkey \u001b[38;5;129;01mis\u001b[39;00m \u001b[38;5;129;01mnot\u001b[39;00m \u001b[38;5;28;01mNone\u001b[39;00m:\n\u001b[0;32m   1045\u001b[0m     \u001b[38;5;66;03m# Add key to exclusions\u001b[39;00m\n\u001b[0;32m   1046\u001b[0m     exclusions\u001b[38;5;241m.\u001b[39madd(gpr\u001b[38;5;241m.\u001b[39mkey)\n",
      "\u001b[1;31mKeyError\u001b[0m: 'Name'"
     ]
    }
   ],
   "source": [
    "\n",
    "# Ensure lat and lon columns by calculating centroids\n",
    "df_kml['lon'] = df_kml['geometry'].apply(lambda geom: geom.centroid.x if geom else None)\n",
    "df_kml['lat'] = df_kml['geometry'].apply(lambda geom: geom.centroid.y if geom else None)\n",
    "\n",
    "# Function to calculate average distance within each student's points\n",
    "def average_distance_within_group(group):\n",
    "    if len(group) < 2:  # If only one point, average distance is zero\n",
    "        return 0\n",
    "    coords = group[['lat', 'lon']].values\n",
    "    return np.mean(pdist(coords))  # Calculate pairwise distances and take the mean\n",
    "\n",
    "# Calculate avg_distance for each student\n",
    "student_avg_dist = df_kml.groupby('Name').apply(average_distance_within_group).reset_index(name='avg_distance')\n",
    "student_avg_dist['avg_distance'] = pd.to_numeric(student_avg_dist['avg_distance'], errors='coerce').fillna(0).astype(float)\n",
    "\n",
    "# Sort by avg_distance and divide students into 4 equal groups\n",
    "student_avg_dist['group'] = pd.qcut(student_avg_dist['avg_distance'], 4, labels=False) + 1\n",
    "df_merged = df_kml.merge(student_avg_dist[['Name', 'group']], on='Name', how='left')\n",
    "\n",
    "# Format 'Group' for display with first names and last initials\n",
    "df_merged['FirstNameFormatted'] = df_merged['Name'].apply(lambda x: f\"{x.split(', ')[1]} {x.split(', ')[0][0]}.\" if ', ' in x else x)\n",
    "grouped_names = df_merged.groupby('group')['FirstNameFormatted'].unique().apply(lambda names: ', '.join(names)).reset_index()\n",
    "grouped_names['Group'] = grouped_names['group'].apply(lambda x: f\"Group {x}: \") + grouped_names['FirstNameFormatted']\n",
    "df_merged = df_merged.merge(grouped_names[['group', 'Group']], on='group', how='left')\n",
    "\n",
    "# Visualize on a Mapbox map\n",
    "fig = px.scatter_mapbox(\n",
    "    df_merged, lat=\"lat\", lon=\"lon\", color=\"group\", title=\"Student Groups Based on Clustering\",\n",
    "    hover_name=\"Name\", hover_data={'Group': True}, mapbox_style=\"carto-positron\", zoom=10\n",
    ")\n",
    "\n",
    "# Center on Harrisonburg, VA\n",
    "fig.update_layout(mapbox=dict(center=dict(lat=38.4496, lon=-78.8689), zoom=10), margin={\"r\":0,\"t\":0,\"l\":0,\"b\":0})\n",
    "fig.show()\n"
   ]
  }
 ],
 "metadata": {
  "kernelspec": {
   "display_name": "Python 3 (ipykernel)",
   "language": "python",
   "name": "python3"
  },
  "language_info": {
   "codemirror_mode": {
    "name": "ipython",
    "version": 3
   },
   "file_extension": ".py",
   "mimetype": "text/x-python",
   "name": "python",
   "nbconvert_exporter": "python",
   "pygments_lexer": "ipython3",
   "version": "3.12.3"
  }
 },
 "nbformat": 4,
 "nbformat_minor": 5
}
